{
 "cells": [
  {
   "cell_type": "code",
   "execution_count": 1,
   "id": "f69d187b",
   "metadata": {},
   "outputs": [
    {
     "name": "stderr",
     "output_type": "stream",
     "text": [
      "d:\\GAP YEAR\\RL-Souls\\TorchRL\\torchrlenv\\Lib\\site-packages\\torchrl\\data\\replay_buffers\\samplers.py:34: UserWarning: Failed to import torchrl C++ binaries. Some modules (eg, prioritized replay buffers) may not work with your installation. This is likely due to a discrepancy between your package version and the PyTorch version. Make sure both are compatible. Usually, torchrl majors follow the pytorch majors within a few days around the release. For instance, TorchRL 0.5 requires PyTorch 2.4.0, and TorchRL 0.6 requires PyTorch 2.5.0.\n",
      "  warnings.warn(EXTENSION_WARNING)\n"
     ]
    }
   ],
   "source": [
    "import gymnasium as gym\n",
    "import numpy as np\n",
    "import soulsgym\n",
    "import torch\n",
    "from torchrl.envs.utils import check_env_specs\n",
    "from torchrl.envs import GymWrapper, TransformedEnv\n",
    "from torchrl.data import (\n",
    "    Composite,\n",
    "    OneHot,\n",
    "    Bounded,\n",
    "    TensorSpec\n",
    ")\n",
    "from tensordict import TensorDict\n",
    "from tensordict.nn import TensorDictModule\n",
    "import multiprocessing"
   ]
  },
  {
   "cell_type": "code",
   "execution_count": 2,
   "id": "cc0bfa31",
   "metadata": {},
   "outputs": [
    {
     "data": {
      "text/plain": [
       "device(type='cuda')"
      ]
     },
     "execution_count": 2,
     "metadata": {},
     "output_type": "execute_result"
    }
   ],
   "source": [
    "is_fork = multiprocessing.get_start_method() == \"fork\"\n",
    "device = torch.device(\"cuda\" if torch.cuda.is_available() and not is_fork else \"cpu\")\n",
    "device"
   ]
  },
  {
   "cell_type": "code",
   "execution_count": 3,
   "id": "c80bf50a",
   "metadata": {},
   "outputs": [
    {
     "name": "stdout",
     "output_type": "stream",
     "text": [
      "Raw Environment Specs:\n",
      "Observation Space: Dict('boss_animation': Discrete(33, start=-1), 'boss_animation_duration': Box(0.0, 10.0, (1,), float32), 'boss_hp': Box(0.0, 1037.0, (1,), float32), 'boss_max_hp': Discrete(1, start=1037), 'boss_pose': Box([110.     540.     -73.      -3.1416], [190.     640.     -55.       3.1416], (4,), float32), 'camera_pose': Box([110. 540. -73.  -1.  -1.  -1.], [190. 640. -55.   1.   1.   1.], (6,), float32), 'lock_on': Discrete(2), 'phase': Discrete(2, start=1), 'player_animation': Discrete(51, start=-1), 'player_animation_duration': Box(0.0, 10.0, (1,), float32), 'player_hp': Box(0.0, 454.0, (1,), float32), 'player_max_hp': Discrete(1, start=454), 'player_max_sp': Discrete(1, start=95), 'player_pose': Box([110.     540.     -73.      -3.1416], [190.     640.     -55.       3.1416], (4,), float32), 'player_sp': Box(0.0, 95.0, (1,), float32))\n",
      "boss_animation Discrete(33, start=-1) \n",
      "\n",
      "boss_animation_duration Box(0.0, 10.0, (1,), float32) \n",
      "\n",
      "boss_hp Box(0.0, 1037.0, (1,), float32) \n",
      "\n",
      "boss_max_hp Discrete(1, start=1037) \n",
      "\n",
      "boss_pose Box([110.     540.     -73.      -3.1416], [190.     640.     -55.       3.1416], (4,), float32) \n",
      "\n",
      "camera_pose Box([110. 540. -73.  -1.  -1.  -1.], [190. 640. -55.   1.   1.   1.], (6,), float32) \n",
      "\n",
      "lock_on Discrete(2) \n",
      "\n",
      "phase Discrete(2, start=1) \n",
      "\n",
      "player_animation Discrete(51, start=-1) \n",
      "\n",
      "player_animation_duration Box(0.0, 10.0, (1,), float32) \n",
      "\n",
      "player_hp Box(0.0, 454.0, (1,), float32) \n",
      "\n",
      "player_max_hp Discrete(1, start=454) \n",
      "\n",
      "player_max_sp Discrete(1, start=95) \n",
      "\n",
      "player_pose Box([110.     540.     -73.      -3.1416], [190.     640.     -55.       3.1416], (4,), float32) \n",
      "\n",
      "player_sp Box(0.0, 95.0, (1,), float32) \n",
      "\n",
      "Action Space: Discrete(20)\n"
     ]
    }
   ],
   "source": [
    "raw_env = gym.make(\"SoulsGymIudex-v0\")\n",
    "\n",
    "print(\"Raw Environment Specs:\")\n",
    "print(\"Observation Space:\", raw_env.observation_space)\n",
    "\n",
    "for entry in raw_env.observation_space:\n",
    "    print(entry, raw_env.observation_space[entry], '\\n')\n",
    "\n",
    "print(\"Action Space:\", raw_env.action_space)"
   ]
  },
  {
   "cell_type": "code",
   "execution_count": 4,
   "id": "07d0ff88",
   "metadata": {},
   "outputs": [
    {
     "name": "stdout",
     "output_type": "stream",
     "text": [
      "Flattened Observation Shape: (23,)\n",
      "\n",
      "Flattened Observation Keys and Dimensions:\n",
      " - boss_animation: shape=33, flat_dim=1\n",
      " - boss_animation_duration: shape=(1,), flat_dim=1\n",
      " - boss_hp: shape=(1,), flat_dim=1\n",
      " - boss_pose: shape=(4,), flat_dim=4\n",
      " - camera_pose: shape=(6,), flat_dim=6\n",
      " - lock_on: shape=2, flat_dim=1\n",
      " - phase: shape=2, flat_dim=1\n",
      " - player_animation: shape=51, flat_dim=1\n",
      " - player_animation_duration: shape=(1,), flat_dim=1\n",
      " - player_hp: shape=(1,), flat_dim=1\n",
      " - player_pose: shape=(4,), flat_dim=4\n",
      " - player_sp: shape=(1,), flat_dim=1\n"
     ]
    }
   ],
   "source": [
    "from gymnasium import ObservationWrapper\n",
    "from gymnasium.spaces import Box, Discrete\n",
    "\n",
    "class FlattenObservationWrapper(ObservationWrapper):\n",
    "    def __init__(self, env):\n",
    "        super().__init__(env)\n",
    "\n",
    "        self.ob_keys = list(self.env.observation_space.spaces.keys())\n",
    "        self.space_info = []\n",
    "\n",
    "        # Build flattened observation space\n",
    "        total_dim = 0\n",
    "        for key in self.ob_keys:\n",
    "            space = self.env.observation_space[key]\n",
    "            if isinstance(space, Box):\n",
    "                dim = int(np.prod(space.shape))\n",
    "            elif isinstance(space, Discrete):\n",
    "                # Skip Discrete(1) constants (like boss_max_hp)\n",
    "                if space.n == 1:\n",
    "                    continue\n",
    "                dim = 1  # could use one-hot if needed\n",
    "            else:\n",
    "                raise NotImplementedError(f\"Unsupported space type: {type(space)}\")\n",
    "            self.space_info.append((key, space, dim))\n",
    "            total_dim += dim\n",
    "\n",
    "        # Define new observation space for Gym compatibility (still needed)\n",
    "        self.observation_space = Box(\n",
    "            low=-float(\"inf\"),\n",
    "            high=float(\"inf\"),\n",
    "            shape=(total_dim,),\n",
    "            dtype=np.float32\n",
    "        )\n",
    "\n",
    "        # Debug print\n",
    "        \"\"\" print(\"Flattened Observation Space Breakdown:\")\n",
    "        for key, space, dim in self.space_info:\n",
    "            print(f\" - {key}: {space} -> flattened dim {dim}\") \"\"\"\n",
    "\n",
    "    def observation(self, observation_dict):\n",
    "        obs = []\n",
    "        for key, space, dim in self.space_info:\n",
    "            value = observation_dict[key]\n",
    "            if isinstance(space, Box):\n",
    "                obs.append(torch.as_tensor(value, dtype=torch.float32).flatten())\n",
    "            elif isinstance(space, Discrete):\n",
    "                obs.append(torch.tensor([float(value)], dtype=torch.float32))\n",
    "        return torch.cat(obs, dim=0)  # single 1D torch tensor\n",
    "\n",
    "    def reset(self, **kwargs):\n",
    "        obs = self.env.reset(**kwargs)\n",
    "        return self.observation(obs)\n",
    "\n",
    "    def step(self, action):\n",
    "        obs, reward, done, info = self.env.step(action)\n",
    "        return self.observation(obs), reward, done, info\n",
    "\n",
    "flattened_env = FlattenObservationWrapper(raw_env)\n",
    "\n",
    "print(\"Flattened Observation Shape:\", flattened_env.observation_space.shape)\n",
    "\n",
    "print(\"\\nFlattened Observation Keys and Dimensions:\")\n",
    "for key, space, dim in flattened_env.space_info:\n",
    "    print(f\" - {key}: shape={space.shape if isinstance(space, Box) else space.n}, flat_dim={dim}\")\n"
   ]
  },
  {
   "cell_type": "code",
   "execution_count": 5,
   "id": "0a760d5f",
   "metadata": {},
   "outputs": [],
   "source": [
    "# Wrap in GymWrapper\n",
    "wrapped_env = GymWrapper(flattened_env)\n",
    "\n",
    "# Patch to avoid StopIteration: Use GymWrapper's reset() with return_info=True manually\n",
    "def safe_reset(env):\n",
    "    result = env.reset()\n",
    "    if isinstance(result, tuple) and len(result) == 2:\n",
    "        return result\n",
    "    else:\n",
    "        return result, {}\n"
   ]
  },
  {
   "cell_type": "code",
   "execution_count": 6,
   "id": "061c03e9",
   "metadata": {},
   "outputs": [],
   "source": [
    "env = TransformedEnv(wrapped_env).to(device)"
   ]
  },
  {
   "cell_type": "code",
   "execution_count": 7,
   "id": "b6b7b552",
   "metadata": {},
   "outputs": [
    {
     "name": "stdout",
     "output_type": "stream",
     "text": [
      "Observation spec: Composite(\n",
      "    observation: UnboundedContinuous(\n",
      "        shape=torch.Size([23]),\n",
      "        space=ContinuousBox(\n",
      "            low=Tensor(shape=torch.Size([23]), device=cuda:0, dtype=torch.float32, contiguous=True),\n",
      "            high=Tensor(shape=torch.Size([23]), device=cuda:0, dtype=torch.float32, contiguous=True)),\n",
      "        device=cuda:0,\n",
      "        dtype=torch.float32,\n",
      "        domain=continuous),\n",
      "    device=cuda:0,\n",
      "    shape=torch.Size([]))\n",
      "Action spec: OneHot(\n",
      "    shape=torch.Size([20]),\n",
      "    space=CategoricalBox(n=20),\n",
      "    device=cuda:0,\n",
      "    dtype=torch.int64,\n",
      "    domain=discrete)\n"
     ]
    },
    {
     "ename": "error",
     "evalue": "(0, 'SetForegroundWindow', 'No error message is available')",
     "output_type": "error",
     "traceback": [
      "\u001b[31m---------------------------------------------------------------------------\u001b[39m",
      "\u001b[31merror\u001b[39m                                     Traceback (most recent call last)",
      "\u001b[36mCell\u001b[39m\u001b[36m \u001b[39m\u001b[32mIn[7]\u001b[39m\u001b[32m, line 3\u001b[39m\n\u001b[32m      1\u001b[39m \u001b[38;5;28mprint\u001b[39m(\u001b[33m\"\u001b[39m\u001b[33mObservation spec:\u001b[39m\u001b[33m\"\u001b[39m, env.observation_spec)\n\u001b[32m      2\u001b[39m \u001b[38;5;28mprint\u001b[39m(\u001b[33m\"\u001b[39m\u001b[33mAction spec:\u001b[39m\u001b[33m\"\u001b[39m, env.action_spec)\n\u001b[32m----> \u001b[39m\u001b[32m3\u001b[39m \u001b[43mcheck_env_specs\u001b[49m\u001b[43m(\u001b[49m\u001b[43menv\u001b[49m\u001b[43m)\u001b[49m\n",
      "\u001b[36mFile \u001b[39m\u001b[32md:\\GAP YEAR\\RL-Souls\\TorchRL\\torchrlenv\\Lib\\site-packages\\torchrl\\envs\\utils.py:757\u001b[39m, in \u001b[36mcheck_env_specs\u001b[39m\u001b[34m(env, return_contiguous, check_dtype, seed, tensordict, break_when_any_done)\u001b[39m\n\u001b[32m    755\u001b[39m     fake_tensordict = fake_tensordict.expand(shape)\n\u001b[32m    756\u001b[39m     tensordict = tensordict.expand(shape)\n\u001b[32m--> \u001b[39m\u001b[32m757\u001b[39m real_tensordict = \u001b[43menv\u001b[49m\u001b[43m.\u001b[49m\u001b[43mrollout\u001b[49m\u001b[43m(\u001b[49m\n\u001b[32m    758\u001b[39m \u001b[43m    \u001b[49m\u001b[32;43m3\u001b[39;49m\u001b[43m,\u001b[49m\n\u001b[32m    759\u001b[39m \u001b[43m    \u001b[49m\u001b[43mreturn_contiguous\u001b[49m\u001b[43m=\u001b[49m\u001b[43mreturn_contiguous\u001b[49m\u001b[43m,\u001b[49m\n\u001b[32m    760\u001b[39m \u001b[43m    \u001b[49m\u001b[43mtensordict\u001b[49m\u001b[43m=\u001b[49m\u001b[43mtensordict\u001b[49m\u001b[43m,\u001b[49m\n\u001b[32m    761\u001b[39m \u001b[43m    \u001b[49m\u001b[43mauto_reset\u001b[49m\u001b[43m=\u001b[49m\u001b[43mtensordict\u001b[49m\u001b[43m \u001b[49m\u001b[38;5;129;43;01mis\u001b[39;49;00m\u001b[43m \u001b[49m\u001b[38;5;28;43;01mNone\u001b[39;49;00m\u001b[43m,\u001b[49m\n\u001b[32m    762\u001b[39m \u001b[43m    \u001b[49m\u001b[43mbreak_when_any_done\u001b[49m\u001b[43m=\u001b[49m\u001b[43mbreak_when_any_done\u001b[49m\u001b[43m,\u001b[49m\n\u001b[32m    763\u001b[39m \u001b[43m\u001b[49m\u001b[43m)\u001b[49m\n\u001b[32m    765\u001b[39m \u001b[38;5;28;01mif\u001b[39;00m return_contiguous:\n\u001b[32m    766\u001b[39m     fake_tensordict = fake_tensordict.unsqueeze(real_tensordict.batch_dims - \u001b[32m1\u001b[39m)\n",
      "\u001b[36mFile \u001b[39m\u001b[32md:\\GAP YEAR\\RL-Souls\\TorchRL\\torchrlenv\\Lib\\site-packages\\torchrl\\envs\\common.py:3278\u001b[39m, in \u001b[36mEnvBase.rollout\u001b[39m\u001b[34m(self, max_steps, policy, callback, auto_reset, auto_cast_to_device, break_when_any_done, break_when_all_done, return_contiguous, tensordict, set_truncated, out, trust_policy)\u001b[39m\n\u001b[32m   3275\u001b[39m env_device = \u001b[38;5;28mself\u001b[39m.device\n\u001b[32m   3277\u001b[39m \u001b[38;5;28;01mif\u001b[39;00m auto_reset:\n\u001b[32m-> \u001b[39m\u001b[32m3278\u001b[39m     tensordict = \u001b[38;5;28;43mself\u001b[39;49m\u001b[43m.\u001b[49m\u001b[43mreset\u001b[49m\u001b[43m(\u001b[49m\u001b[43mtensordict\u001b[49m\u001b[43m)\u001b[49m\n\u001b[32m   3279\u001b[39m \u001b[38;5;28;01melif\u001b[39;00m tensordict \u001b[38;5;129;01mis\u001b[39;00m \u001b[38;5;28;01mNone\u001b[39;00m:\n\u001b[32m   3280\u001b[39m     \u001b[38;5;28;01mraise\u001b[39;00m \u001b[38;5;167;01mRuntimeError\u001b[39;00m(\u001b[33m\"\u001b[39m\u001b[33mtensordict must be provided when auto_reset is False\u001b[39m\u001b[33m\"\u001b[39m)\n",
      "\u001b[36mFile \u001b[39m\u001b[32md:\\GAP YEAR\\RL-Souls\\TorchRL\\torchrlenv\\Lib\\site-packages\\torchrl\\envs\\common.py:2788\u001b[39m, in \u001b[36mEnvBase.reset\u001b[39m\u001b[34m(self, tensordict, **kwargs)\u001b[39m\n\u001b[32m   2784\u001b[39m     tensordict_reset = \u001b[38;5;28mself\u001b[39m._reset(\n\u001b[32m   2785\u001b[39m         tensordict.select(*\u001b[38;5;28mself\u001b[39m.reset_keys, strict=\u001b[38;5;28;01mFalse\u001b[39;00m), **kwargs\n\u001b[32m   2786\u001b[39m     )\n\u001b[32m   2787\u001b[39m \u001b[38;5;28;01melse\u001b[39;00m:\n\u001b[32m-> \u001b[39m\u001b[32m2788\u001b[39m     tensordict_reset = \u001b[38;5;28;43mself\u001b[39;49m\u001b[43m.\u001b[49m\u001b[43m_reset\u001b[49m\u001b[43m(\u001b[49m\u001b[43mtensordict\u001b[49m\u001b[43m,\u001b[49m\u001b[43m \u001b[49m\u001b[43m*\u001b[49m\u001b[43m*\u001b[49m\u001b[43mkwargs\u001b[49m\u001b[43m)\u001b[49m\n\u001b[32m   2789\u001b[39m \u001b[38;5;66;03m# We assume that this is done properly\u001b[39;00m\n\u001b[32m   2790\u001b[39m \u001b[38;5;66;03m# if reset.device != self.device:\u001b[39;00m\n\u001b[32m   2791\u001b[39m \u001b[38;5;66;03m#     reset = reset.to(self.device, non_blocking=True)\u001b[39;00m\n\u001b[32m   2792\u001b[39m \u001b[38;5;28;01mif\u001b[39;00m tensordict_reset \u001b[38;5;129;01mis\u001b[39;00m tensordict:\n",
      "\u001b[36mFile \u001b[39m\u001b[32md:\\GAP YEAR\\RL-Souls\\TorchRL\\torchrlenv\\Lib\\site-packages\\torchrl\\envs\\transforms\\transforms.py:1184\u001b[39m, in \u001b[36mTransformedEnv._reset\u001b[39m\u001b[34m(self, tensordict, **kwargs)\u001b[39m\n\u001b[32m   1180\u001b[39m \u001b[38;5;66;03m# We always call _reset_env_preprocess, even if tensordict is None - that way one can augment that\u001b[39;00m\n\u001b[32m   1181\u001b[39m \u001b[38;5;66;03m# method to do any pre-reset operation.\u001b[39;00m\n\u001b[32m   1182\u001b[39m \u001b[38;5;66;03m# By default, within _reset_env_preprocess we will skip the inv call when tensordict is None.\u001b[39;00m\n\u001b[32m   1183\u001b[39m tensordict = \u001b[38;5;28mself\u001b[39m.transform._reset_env_preprocess(tensordict)\n\u001b[32m-> \u001b[39m\u001b[32m1184\u001b[39m tensordict_reset = \u001b[38;5;28;43mself\u001b[39;49m\u001b[43m.\u001b[49m\u001b[43mbase_env\u001b[49m\u001b[43m.\u001b[49m\u001b[43m_reset\u001b[49m\u001b[43m(\u001b[49m\u001b[43mtensordict\u001b[49m\u001b[43m,\u001b[49m\u001b[43m \u001b[49m\u001b[43m*\u001b[49m\u001b[43m*\u001b[49m\u001b[43mkwargs\u001b[49m\u001b[43m)\u001b[49m\n\u001b[32m   1185\u001b[39m \u001b[38;5;28;01mif\u001b[39;00m tensordict \u001b[38;5;129;01mis\u001b[39;00m \u001b[38;5;28;01mNone\u001b[39;00m:\n\u001b[32m   1186\u001b[39m     \u001b[38;5;66;03m# make sure all transforms see a source tensordict\u001b[39;00m\n\u001b[32m   1187\u001b[39m     tensordict = tensordict_reset.empty()\n",
      "\u001b[36mFile \u001b[39m\u001b[32md:\\GAP YEAR\\RL-Souls\\TorchRL\\torchrlenv\\Lib\\site-packages\\torchrl\\envs\\libs\\gym.py:1591\u001b[39m, in \u001b[36mGymWrapper._reset\u001b[39m\u001b[34m(self, tensordict, **kwargs)\u001b[39m\n\u001b[32m   1589\u001b[39m     \u001b[38;5;28;01melse\u001b[39;00m:\n\u001b[32m   1590\u001b[39m         \u001b[38;5;28;01mreturn\u001b[39;00m tensordict\n\u001b[32m-> \u001b[39m\u001b[32m1591\u001b[39m \u001b[38;5;28;01mreturn\u001b[39;00m \u001b[38;5;28;43msuper\u001b[39;49m\u001b[43m(\u001b[49m\u001b[43m)\u001b[49m\u001b[43m.\u001b[49m\u001b[43m_reset\u001b[49m\u001b[43m(\u001b[49m\u001b[43mtensordict\u001b[49m\u001b[43m,\u001b[49m\u001b[43m \u001b[49m\u001b[43m*\u001b[49m\u001b[43m*\u001b[49m\u001b[43mkwargs\u001b[49m\u001b[43m)\u001b[49m\n",
      "\u001b[36mFile \u001b[39m\u001b[32md:\\GAP YEAR\\RL-Souls\\TorchRL\\torchrlenv\\Lib\\site-packages\\torchrl\\envs\\gym_like.py:518\u001b[39m, in \u001b[36mGymLikeEnv._reset\u001b[39m\u001b[34m(self, tensordict, **kwargs)\u001b[39m\n\u001b[32m    515\u001b[39m \u001b[38;5;28;01mdef\u001b[39;00m\u001b[38;5;250m \u001b[39m\u001b[34m_reset\u001b[39m(\n\u001b[32m    516\u001b[39m     \u001b[38;5;28mself\u001b[39m, tensordict: TensorDictBase | \u001b[38;5;28;01mNone\u001b[39;00m = \u001b[38;5;28;01mNone\u001b[39;00m, **kwargs\n\u001b[32m    517\u001b[39m ) -> TensorDictBase:\n\u001b[32m--> \u001b[39m\u001b[32m518\u001b[39m     obs, info = \u001b[38;5;28mself\u001b[39m._reset_output_transform(\u001b[38;5;28;43mself\u001b[39;49m\u001b[43m.\u001b[49m\u001b[43m_env\u001b[49m\u001b[43m.\u001b[49m\u001b[43mreset\u001b[49m\u001b[43m(\u001b[49m\u001b[43m*\u001b[49m\u001b[43m*\u001b[49m\u001b[43mkwargs\u001b[49m\u001b[43m)\u001b[49m)\n\u001b[32m    520\u001b[39m     source = \u001b[38;5;28mself\u001b[39m.read_obs(obs)\n\u001b[32m    522\u001b[39m     \u001b[38;5;66;03m# _new_unsafe cannot be used because it won't wrap non-tensor correctly\u001b[39;00m\n",
      "\u001b[36mCell\u001b[39m\u001b[36m \u001b[39m\u001b[32mIn[4]\u001b[39m\u001b[32m, line 51\u001b[39m, in \u001b[36mFlattenObservationWrapper.reset\u001b[39m\u001b[34m(self, **kwargs)\u001b[39m\n\u001b[32m     50\u001b[39m \u001b[38;5;28;01mdef\u001b[39;00m\u001b[38;5;250m \u001b[39m\u001b[34mreset\u001b[39m(\u001b[38;5;28mself\u001b[39m, **kwargs):\n\u001b[32m---> \u001b[39m\u001b[32m51\u001b[39m     obs = \u001b[38;5;28;43mself\u001b[39;49m\u001b[43m.\u001b[49m\u001b[43menv\u001b[49m\u001b[43m.\u001b[49m\u001b[43mreset\u001b[49m\u001b[43m(\u001b[49m\u001b[43m*\u001b[49m\u001b[43m*\u001b[49m\u001b[43mkwargs\u001b[49m\u001b[43m)\u001b[49m\n\u001b[32m     52\u001b[39m     \u001b[38;5;28;01mreturn\u001b[39;00m \u001b[38;5;28mself\u001b[39m.observation(obs)\n",
      "\u001b[36mFile \u001b[39m\u001b[32md:\\GAP YEAR\\RL-Souls\\TorchRL\\torchrlenv\\Lib\\site-packages\\gymnasium\\wrappers\\time_limit.py:69\u001b[39m, in \u001b[36mTimeLimit.reset\u001b[39m\u001b[34m(self, **kwargs)\u001b[39m\n\u001b[32m     60\u001b[39m \u001b[38;5;250m\u001b[39m\u001b[33;03m\"\"\"Resets the environment with :param:`**kwargs` and sets the number of steps elapsed to zero.\u001b[39;00m\n\u001b[32m     61\u001b[39m \n\u001b[32m     62\u001b[39m \u001b[33;03mArgs:\u001b[39;00m\n\u001b[32m   (...)\u001b[39m\u001b[32m     66\u001b[39m \u001b[33;03m    The reset environment\u001b[39;00m\n\u001b[32m     67\u001b[39m \u001b[33;03m\"\"\"\u001b[39;00m\n\u001b[32m     68\u001b[39m \u001b[38;5;28mself\u001b[39m._elapsed_steps = \u001b[32m0\u001b[39m\n\u001b[32m---> \u001b[39m\u001b[32m69\u001b[39m \u001b[38;5;28;01mreturn\u001b[39;00m \u001b[38;5;28;43mself\u001b[39;49m\u001b[43m.\u001b[49m\u001b[43menv\u001b[49m\u001b[43m.\u001b[49m\u001b[43mreset\u001b[49m\u001b[43m(\u001b[49m\u001b[43m*\u001b[49m\u001b[43m*\u001b[49m\u001b[43mkwargs\u001b[49m\u001b[43m)\u001b[49m\n",
      "\u001b[36mFile \u001b[39m\u001b[32md:\\GAP YEAR\\RL-Souls\\TorchRL\\torchrlenv\\Lib\\site-packages\\gymnasium\\wrappers\\order_enforcing.py:43\u001b[39m, in \u001b[36mOrderEnforcing.reset\u001b[39m\u001b[34m(self, **kwargs)\u001b[39m\n\u001b[32m     41\u001b[39m \u001b[38;5;250m\u001b[39m\u001b[33;03m\"\"\"Resets the environment with `kwargs`.\"\"\"\u001b[39;00m\n\u001b[32m     42\u001b[39m \u001b[38;5;28mself\u001b[39m._has_reset = \u001b[38;5;28;01mTrue\u001b[39;00m\n\u001b[32m---> \u001b[39m\u001b[32m43\u001b[39m \u001b[38;5;28;01mreturn\u001b[39;00m \u001b[38;5;28;43mself\u001b[39;49m\u001b[43m.\u001b[49m\u001b[43menv\u001b[49m\u001b[43m.\u001b[49m\u001b[43mreset\u001b[49m\u001b[43m(\u001b[49m\u001b[43m*\u001b[49m\u001b[43m*\u001b[49m\u001b[43mkwargs\u001b[49m\u001b[43m)\u001b[49m\n",
      "\u001b[36mFile \u001b[39m\u001b[32md:\\GAP YEAR\\RL-Souls\\TorchRL\\torchrlenv\\Lib\\site-packages\\gymnasium\\wrappers\\env_checker.py:45\u001b[39m, in \u001b[36mPassiveEnvChecker.reset\u001b[39m\u001b[34m(self, **kwargs)\u001b[39m\n\u001b[32m     43\u001b[39m \u001b[38;5;28;01mif\u001b[39;00m \u001b[38;5;28mself\u001b[39m.checked_reset \u001b[38;5;129;01mis\u001b[39;00m \u001b[38;5;28;01mFalse\u001b[39;00m:\n\u001b[32m     44\u001b[39m     \u001b[38;5;28mself\u001b[39m.checked_reset = \u001b[38;5;28;01mTrue\u001b[39;00m\n\u001b[32m---> \u001b[39m\u001b[32m45\u001b[39m     \u001b[38;5;28;01mreturn\u001b[39;00m \u001b[43menv_reset_passive_checker\u001b[49m\u001b[43m(\u001b[49m\u001b[38;5;28;43mself\u001b[39;49m\u001b[43m.\u001b[49m\u001b[43menv\u001b[49m\u001b[43m,\u001b[49m\u001b[43m \u001b[49m\u001b[43m*\u001b[49m\u001b[43m*\u001b[49m\u001b[43mkwargs\u001b[49m\u001b[43m)\u001b[49m\n\u001b[32m     46\u001b[39m \u001b[38;5;28;01melse\u001b[39;00m:\n\u001b[32m     47\u001b[39m     \u001b[38;5;28;01mreturn\u001b[39;00m \u001b[38;5;28mself\u001b[39m.env.reset(**kwargs)\n",
      "\u001b[36mFile \u001b[39m\u001b[32md:\\GAP YEAR\\RL-Souls\\TorchRL\\torchrlenv\\Lib\\site-packages\\gymnasium\\utils\\passive_env_checker.py:208\u001b[39m, in \u001b[36menv_reset_passive_checker\u001b[39m\u001b[34m(env, **kwargs)\u001b[39m\n\u001b[32m    203\u001b[39m     logger.warn(\n\u001b[32m    204\u001b[39m         \u001b[33m\"\u001b[39m\u001b[33mFuture gymnasium versions will require that `Env.reset` can be passed `options` to allow the environment initialisation to be passed additional information.\u001b[39m\u001b[33m\"\u001b[39m\n\u001b[32m    205\u001b[39m     )\n\u001b[32m    207\u001b[39m \u001b[38;5;66;03m# Checks the result of env.reset with kwargs\u001b[39;00m\n\u001b[32m--> \u001b[39m\u001b[32m208\u001b[39m result = \u001b[43menv\u001b[49m\u001b[43m.\u001b[49m\u001b[43mreset\u001b[49m\u001b[43m(\u001b[49m\u001b[43m*\u001b[49m\u001b[43m*\u001b[49m\u001b[43mkwargs\u001b[49m\u001b[43m)\u001b[49m\n\u001b[32m    210\u001b[39m \u001b[38;5;28;01mif\u001b[39;00m \u001b[38;5;129;01mnot\u001b[39;00m \u001b[38;5;28misinstance\u001b[39m(result, \u001b[38;5;28mtuple\u001b[39m):\n\u001b[32m    211\u001b[39m     logger.warn(\n\u001b[32m    212\u001b[39m         \u001b[33mf\u001b[39m\u001b[33m\"\u001b[39m\u001b[33mThe result returned by `env.reset()` was not a tuple of the form `(obs, info)`, where `obs` is a observation and `info` is a dictionary containing additional information. Actual type: `\u001b[39m\u001b[38;5;132;01m{\u001b[39;00m\u001b[38;5;28mtype\u001b[39m(result)\u001b[38;5;132;01m}\u001b[39;00m\u001b[33m`\u001b[39m\u001b[33m\"\u001b[39m\n\u001b[32m    213\u001b[39m     )\n",
      "\u001b[36mFile \u001b[39m\u001b[32md:\\GAP YEAR\\RL-Souls\\TorchRL\\torchrlenv\\Lib\\site-packages\\soulsgym\\envs\\darksouls3\\iudex.py:179\u001b[39m, in \u001b[36mIudexEnv.reset\u001b[39m\u001b[34m(self, seed, options)\u001b[39m\n\u001b[32m    169\u001b[39m \u001b[38;5;250m\u001b[39m\u001b[33;03m\"\"\"Reset the environment to the beginning of an episode.\u001b[39;00m\n\u001b[32m    170\u001b[39m \n\u001b[32m    171\u001b[39m \u001b[33;03mArgs:\u001b[39;00m\n\u001b[32m   (...)\u001b[39m\u001b[32m    176\u001b[39m \u001b[33;03m    A tuple of the first game state and the info dict after the reset.\u001b[39;00m\n\u001b[32m    177\u001b[39m \u001b[33;03m\"\"\"\u001b[39;00m\n\u001b[32m    178\u001b[39m \u001b[38;5;28;01mif\u001b[39;00m \u001b[38;5;129;01mnot\u001b[39;00m \u001b[38;5;28mself\u001b[39m._is_init:\n\u001b[32m--> \u001b[39m\u001b[32m179\u001b[39m     \u001b[38;5;28;43mself\u001b[39;49m\u001b[43m.\u001b[49m\u001b[43m_env_setup\u001b[49m\u001b[43m(\u001b[49m\u001b[43m)\u001b[49m\n\u001b[32m    180\u001b[39m \u001b[38;5;66;03m# Reset the environment every 15 minutes to avoid performance degradation. See `__init__`\u001b[39;00m\n\u001b[32m    181\u001b[39m \u001b[38;5;66;03m# for details\u001b[39;00m\n\u001b[32m    182\u001b[39m \u001b[38;5;28mself\u001b[39m._game_input.reset()\n",
      "\u001b[36mFile \u001b[39m\u001b[32md:\\GAP YEAR\\RL-Souls\\TorchRL\\torchrlenv\\Lib\\site-packages\\soulsgym\\envs\\darksouls3\\iudex.py:162\u001b[39m, in \u001b[36mIudexEnv._env_setup\u001b[39m\u001b[34m(self, init_retries)\u001b[39m\n\u001b[32m    160\u001b[39m         \u001b[38;5;28;01mraise\u001b[39;00m RetriesExceededError(\u001b[33m\"\u001b[39m\u001b[33mIudex environment setup failed\u001b[39m\u001b[33m\"\u001b[39m)\n\u001b[32m    161\u001b[39m     init_retries -= \u001b[32m1\u001b[39m\n\u001b[32m--> \u001b[39m\u001b[32m162\u001b[39m     \u001b[38;5;28;43mself\u001b[39;49m\u001b[43m.\u001b[49m\u001b[43m_iudex_setup\u001b[49m\u001b[43m(\u001b[49m\u001b[43m)\u001b[49m\n\u001b[32m    163\u001b[39m \u001b[38;5;28mself\u001b[39m._is_init = \u001b[38;5;28;01mTrue\u001b[39;00m\n\u001b[32m    164\u001b[39m \u001b[38;5;28mself\u001b[39m._phase_init = \u001b[38;5;28;01mFalse\u001b[39;00m  \u001b[38;5;66;03m# When we reload, the phase is automatically reset to 1\u001b[39;00m\n",
      "\u001b[36mFile \u001b[39m\u001b[32md:\\GAP YEAR\\RL-Souls\\TorchRL\\torchrlenv\\Lib\\site-packages\\soulsgym\\envs\\darksouls3\\iudex.py:253\u001b[39m, in \u001b[36mIudexEnv._iudex_setup\u001b[39m\u001b[34m(self)\u001b[39m\n\u001b[32m    251\u001b[39m     logger.debug(\u001b[33m\"\u001b[39m\u001b[33m_iudex_setup: Player respawn success\u001b[39m\u001b[33m\"\u001b[39m)\n\u001b[32m    252\u001b[39m logger.debug(\u001b[33m\"\u001b[39m\u001b[33m_iudex_setup: Reset success\u001b[39m\u001b[33m\"\u001b[39m)\n\u001b[32m--> \u001b[39m\u001b[32m253\u001b[39m \u001b[38;5;28;43mself\u001b[39;49m\u001b[43m.\u001b[49m\u001b[43m_game_window\u001b[49m\u001b[43m.\u001b[49m\u001b[43mfocus_application\u001b[49m\u001b[43m(\u001b[49m\u001b[43m)\u001b[49m\n\u001b[32m    254\u001b[39m logger.debug(\u001b[33m\"\u001b[39m\u001b[33m_iudex_setup: Focus success\u001b[39m\u001b[33m\"\u001b[39m)\n\u001b[32m    255\u001b[39m \u001b[38;5;66;03m# At this point the player should be idle. If this is not the case for some reason,\u001b[39;00m\n\u001b[32m    256\u001b[39m \u001b[38;5;66;03m# preemtively reload the game\u001b[39;00m\n",
      "\u001b[36mFile \u001b[39m\u001b[32md:\\GAP YEAR\\RL-Souls\\TorchRL\\torchrlenv\\Lib\\site-packages\\soulsgym\\core\\game_window\\game_window.py:101\u001b[39m, in \u001b[36mGameWindow.focus_application\u001b[39m\u001b[34m(self)\u001b[39m\n\u001b[32m     96\u001b[39m \u001b[38;5;28;01mdef\u001b[39;00m\u001b[38;5;250m \u001b[39m\u001b[34mfocus_application\u001b[39m(\u001b[38;5;28mself\u001b[39m):\n\u001b[32m     97\u001b[39m \u001b[38;5;250m    \u001b[39m\u001b[33;03m\"\"\"Shift the application focus of Windows to the game application.\u001b[39;00m\n\u001b[32m     98\u001b[39m \n\u001b[32m     99\u001b[39m \u001b[33;03m    Also sets the cursor within the game window.\u001b[39;00m\n\u001b[32m    100\u001b[39m \u001b[33;03m    \"\"\"\u001b[39;00m\n\u001b[32m--> \u001b[39m\u001b[32m101\u001b[39m     \u001b[43mwin32gui\u001b[49m\u001b[43m.\u001b[49m\u001b[43mSetForegroundWindow\u001b[49m\u001b[43m(\u001b[49m\u001b[38;5;28;43mself\u001b[39;49m\u001b[43m.\u001b[49m\u001b[43mhwnd\u001b[49m\u001b[43m)\u001b[49m\n\u001b[32m    102\u001b[39m     time.sleep(\u001b[32m0.1\u001b[39m)\n\u001b[32m    103\u001b[39m     left, top, _, _ = win32gui.GetWindowRect(\u001b[38;5;28mself\u001b[39m.hwnd)\n",
      "\u001b[31merror\u001b[39m: (0, 'SetForegroundWindow', 'No error message is available')"
     ]
    }
   ],
   "source": [
    "print(\"Observation spec:\", env.observation_spec)\n",
    "print(\"Action spec:\", env.action_spec)\n",
    "check_env_specs(env)"
   ]
  }
 ],
 "metadata": {
  "kernelspec": {
   "display_name": "torchrlenv",
   "language": "python",
   "name": "python3"
  },
  "language_info": {
   "codemirror_mode": {
    "name": "ipython",
    "version": 3
   },
   "file_extension": ".py",
   "mimetype": "text/x-python",
   "name": "python",
   "nbconvert_exporter": "python",
   "pygments_lexer": "ipython3",
   "version": "3.11.2"
  }
 },
 "nbformat": 4,
 "nbformat_minor": 5
}
